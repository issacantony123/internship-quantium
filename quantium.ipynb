{
  "nbformat": 4,
  "nbformat_minor": 0,
  "metadata": {
    "colab": {
      "name": "quantium.ipynb",
      "provenance": [],
      "collapsed_sections": []
    },
    "kernelspec": {
      "name": "python3",
      "display_name": "Python 3"
    }
  },
  "cells": [
    {
      "cell_type": "code",
      "metadata": {
        "id": "1L42_T6pP7HB",
        "colab_type": "code",
        "colab": {
          "base_uri": "https://localhost:8080/",
          "height": 71
        },
        "outputId": "b2d31d3f-c6f2-4094-ecca-ba92eb38a514"
      },
      "source": [
        "import pandas as pd\n",
        "import seaborn as sns\n",
        "import matplotlib.pyplot as plt"
      ],
      "execution_count": 1,
      "outputs": [
        {
          "output_type": "stream",
          "text": [
            "/usr/local/lib/python3.6/dist-packages/statsmodels/tools/_testing.py:19: FutureWarning: pandas.util.testing is deprecated. Use the functions in the public API at pandas.testing instead.\n",
            "  import pandas.util.testing as tm\n"
          ],
          "name": "stderr"
        }
      ]
    },
    {
      "cell_type": "code",
      "metadata": {
        "id": "B9VZTCT6Ojj3",
        "colab_type": "code",
        "colab": {}
      },
      "source": [
        "transaction = pd.read_excel(\"https://insidesherpa.s3.amazonaws.com/vinternships/companyassets/32A6DqtsbF7LbKdcq/QVI_transaction_data.xlsx\")\n",
        "purchase = pd.read_csv(\"https://insidesherpa.s3.amazonaws.com/vinternships/companyassets/32A6DqtsbF7LbKdcq/QVI_purchase_behaviour.csv\")"
      ],
      "execution_count": 2,
      "outputs": []
    },
    {
      "cell_type": "code",
      "metadata": {
        "id": "Z7itSnofRluC",
        "colab_type": "code",
        "colab": {
          "base_uri": "https://localhost:8080/",
          "height": 204
        },
        "outputId": "f5a9b6ed-e93f-435d-e6e4-3f5114ac6a55"
      },
      "source": [
        "transaction.head()"
      ],
      "execution_count": 3,
      "outputs": [
        {
          "output_type": "execute_result",
          "data": {
            "text/html": [
              "<div>\n",
              "<style scoped>\n",
              "    .dataframe tbody tr th:only-of-type {\n",
              "        vertical-align: middle;\n",
              "    }\n",
              "\n",
              "    .dataframe tbody tr th {\n",
              "        vertical-align: top;\n",
              "    }\n",
              "\n",
              "    .dataframe thead th {\n",
              "        text-align: right;\n",
              "    }\n",
              "</style>\n",
              "<table border=\"1\" class=\"dataframe\">\n",
              "  <thead>\n",
              "    <tr style=\"text-align: right;\">\n",
              "      <th></th>\n",
              "      <th>DATE</th>\n",
              "      <th>STORE_NBR</th>\n",
              "      <th>LYLTY_CARD_NBR</th>\n",
              "      <th>TXN_ID</th>\n",
              "      <th>PROD_NBR</th>\n",
              "      <th>PROD_NAME</th>\n",
              "      <th>PROD_QTY</th>\n",
              "      <th>TOT_SALES</th>\n",
              "    </tr>\n",
              "  </thead>\n",
              "  <tbody>\n",
              "    <tr>\n",
              "      <th>0</th>\n",
              "      <td>43390</td>\n",
              "      <td>1</td>\n",
              "      <td>1000</td>\n",
              "      <td>1</td>\n",
              "      <td>5</td>\n",
              "      <td>Natural Chip        Compny SeaSalt175g</td>\n",
              "      <td>2</td>\n",
              "      <td>6.0</td>\n",
              "    </tr>\n",
              "    <tr>\n",
              "      <th>1</th>\n",
              "      <td>43599</td>\n",
              "      <td>1</td>\n",
              "      <td>1307</td>\n",
              "      <td>348</td>\n",
              "      <td>66</td>\n",
              "      <td>CCs Nacho Cheese    175g</td>\n",
              "      <td>3</td>\n",
              "      <td>6.3</td>\n",
              "    </tr>\n",
              "    <tr>\n",
              "      <th>2</th>\n",
              "      <td>43605</td>\n",
              "      <td>1</td>\n",
              "      <td>1343</td>\n",
              "      <td>383</td>\n",
              "      <td>61</td>\n",
              "      <td>Smiths Crinkle Cut  Chips Chicken 170g</td>\n",
              "      <td>2</td>\n",
              "      <td>2.9</td>\n",
              "    </tr>\n",
              "    <tr>\n",
              "      <th>3</th>\n",
              "      <td>43329</td>\n",
              "      <td>2</td>\n",
              "      <td>2373</td>\n",
              "      <td>974</td>\n",
              "      <td>69</td>\n",
              "      <td>Smiths Chip Thinly  S/Cream&amp;Onion 175g</td>\n",
              "      <td>5</td>\n",
              "      <td>15.0</td>\n",
              "    </tr>\n",
              "    <tr>\n",
              "      <th>4</th>\n",
              "      <td>43330</td>\n",
              "      <td>2</td>\n",
              "      <td>2426</td>\n",
              "      <td>1038</td>\n",
              "      <td>108</td>\n",
              "      <td>Kettle Tortilla ChpsHny&amp;Jlpno Chili 150g</td>\n",
              "      <td>3</td>\n",
              "      <td>13.8</td>\n",
              "    </tr>\n",
              "  </tbody>\n",
              "</table>\n",
              "</div>"
            ],
            "text/plain": [
              "    DATE  STORE_NBR  ...  PROD_QTY  TOT_SALES\n",
              "0  43390          1  ...         2        6.0\n",
              "1  43599          1  ...         3        6.3\n",
              "2  43605          1  ...         2        2.9\n",
              "3  43329          2  ...         5       15.0\n",
              "4  43330          2  ...         3       13.8\n",
              "\n",
              "[5 rows x 8 columns]"
            ]
          },
          "metadata": {
            "tags": []
          },
          "execution_count": 3
        }
      ]
    },
    {
      "cell_type": "code",
      "metadata": {
        "id": "tKZwSjbFSvNn",
        "colab_type": "code",
        "colab": {}
      },
      "source": [
        "transaction[\"PROD_QUANT\"]=transaction[\"PROD_NAME\"].apply(lambda x:x[-4:-1])"
      ],
      "execution_count": 4,
      "outputs": []
    },
    {
      "cell_type": "code",
      "metadata": {
        "id": "AIgr7WK4TYNo",
        "colab_type": "code",
        "colab": {
          "base_uri": "https://localhost:8080/",
          "height": 204
        },
        "outputId": "211afc80-a501-4f04-d686-29d1d2fe95d7"
      },
      "source": [
        "transaction.head()"
      ],
      "execution_count": 5,
      "outputs": [
        {
          "output_type": "execute_result",
          "data": {
            "text/html": [
              "<div>\n",
              "<style scoped>\n",
              "    .dataframe tbody tr th:only-of-type {\n",
              "        vertical-align: middle;\n",
              "    }\n",
              "\n",
              "    .dataframe tbody tr th {\n",
              "        vertical-align: top;\n",
              "    }\n",
              "\n",
              "    .dataframe thead th {\n",
              "        text-align: right;\n",
              "    }\n",
              "</style>\n",
              "<table border=\"1\" class=\"dataframe\">\n",
              "  <thead>\n",
              "    <tr style=\"text-align: right;\">\n",
              "      <th></th>\n",
              "      <th>DATE</th>\n",
              "      <th>STORE_NBR</th>\n",
              "      <th>LYLTY_CARD_NBR</th>\n",
              "      <th>TXN_ID</th>\n",
              "      <th>PROD_NBR</th>\n",
              "      <th>PROD_NAME</th>\n",
              "      <th>PROD_QTY</th>\n",
              "      <th>TOT_SALES</th>\n",
              "      <th>PROD_QUANT</th>\n",
              "    </tr>\n",
              "  </thead>\n",
              "  <tbody>\n",
              "    <tr>\n",
              "      <th>0</th>\n",
              "      <td>43390</td>\n",
              "      <td>1</td>\n",
              "      <td>1000</td>\n",
              "      <td>1</td>\n",
              "      <td>5</td>\n",
              "      <td>Natural Chip        Compny SeaSalt175g</td>\n",
              "      <td>2</td>\n",
              "      <td>6.0</td>\n",
              "      <td>175</td>\n",
              "    </tr>\n",
              "    <tr>\n",
              "      <th>1</th>\n",
              "      <td>43599</td>\n",
              "      <td>1</td>\n",
              "      <td>1307</td>\n",
              "      <td>348</td>\n",
              "      <td>66</td>\n",
              "      <td>CCs Nacho Cheese    175g</td>\n",
              "      <td>3</td>\n",
              "      <td>6.3</td>\n",
              "      <td>175</td>\n",
              "    </tr>\n",
              "    <tr>\n",
              "      <th>2</th>\n",
              "      <td>43605</td>\n",
              "      <td>1</td>\n",
              "      <td>1343</td>\n",
              "      <td>383</td>\n",
              "      <td>61</td>\n",
              "      <td>Smiths Crinkle Cut  Chips Chicken 170g</td>\n",
              "      <td>2</td>\n",
              "      <td>2.9</td>\n",
              "      <td>170</td>\n",
              "    </tr>\n",
              "    <tr>\n",
              "      <th>3</th>\n",
              "      <td>43329</td>\n",
              "      <td>2</td>\n",
              "      <td>2373</td>\n",
              "      <td>974</td>\n",
              "      <td>69</td>\n",
              "      <td>Smiths Chip Thinly  S/Cream&amp;Onion 175g</td>\n",
              "      <td>5</td>\n",
              "      <td>15.0</td>\n",
              "      <td>175</td>\n",
              "    </tr>\n",
              "    <tr>\n",
              "      <th>4</th>\n",
              "      <td>43330</td>\n",
              "      <td>2</td>\n",
              "      <td>2426</td>\n",
              "      <td>1038</td>\n",
              "      <td>108</td>\n",
              "      <td>Kettle Tortilla ChpsHny&amp;Jlpno Chili 150g</td>\n",
              "      <td>3</td>\n",
              "      <td>13.8</td>\n",
              "      <td>150</td>\n",
              "    </tr>\n",
              "  </tbody>\n",
              "</table>\n",
              "</div>"
            ],
            "text/plain": [
              "    DATE  STORE_NBR  LYLTY_CARD_NBR  ...  PROD_QTY  TOT_SALES PROD_QUANT\n",
              "0  43390          1            1000  ...         2        6.0        175\n",
              "1  43599          1            1307  ...         3        6.3        175\n",
              "2  43605          1            1343  ...         2        2.9        170\n",
              "3  43329          2            2373  ...         5       15.0        175\n",
              "4  43330          2            2426  ...         3       13.8        150\n",
              "\n",
              "[5 rows x 9 columns]"
            ]
          },
          "metadata": {
            "tags": []
          },
          "execution_count": 5
        }
      ]
    },
    {
      "cell_type": "code",
      "metadata": {
        "id": "WXHE9hAqTcCw",
        "colab_type": "code",
        "colab": {
          "base_uri": "https://localhost:8080/",
          "height": 68
        },
        "outputId": "12e66334-3170-4da5-9b15-c0c92bb02d5d"
      },
      "source": [
        "transaction[\"PROD_QUANT\"].unique()"
      ],
      "execution_count": 6,
      "outputs": [
        {
          "output_type": "execute_result",
          "data": {
            "text/plain": [
              "array(['175', '170', '150', '300', '330', '210', '270', '220', '125',\n",
              "       '110', '134', '380', '180', '165', 'Sal', '250', '200', '160',\n",
              "       '190', ' 90', ' 70'], dtype=object)"
            ]
          },
          "metadata": {
            "tags": []
          },
          "execution_count": 6
        }
      ]
    },
    {
      "cell_type": "code",
      "metadata": {
        "id": "itZn6vnEPPDZ",
        "colab_type": "code",
        "colab": {
          "base_uri": "https://localhost:8080/",
          "height": 119
        },
        "outputId": "b9b23e08-bfe4-4ee7-cde8-dd09ec5cb0e3"
      },
      "source": [
        "transaction[transaction[\"PROD_QUANT\"]==\"Sal\"].index"
      ],
      "execution_count": 7,
      "outputs": [
        {
          "output_type": "execute_result",
          "data": {
            "text/plain": [
              "Int64Index([    65,    153,    174,    177,    348,    354,    398,    623,\n",
              "               711,    712,\n",
              "            ...\n",
              "            263732, 263950, 264001, 264547, 264561, 264564, 264574, 264725,\n",
              "            264767, 264823],\n",
              "           dtype='int64', length=3257)"
            ]
          },
          "metadata": {
            "tags": []
          },
          "execution_count": 7
        }
      ]
    },
    {
      "cell_type": "code",
      "metadata": {
        "id": "pwYCgxH-RLZb",
        "colab_type": "code",
        "colab": {}
      },
      "source": [
        "transaction.PROD_QUANT = transaction.PROD_QUANT.str.replace('Sal','135')"
      ],
      "execution_count": 8,
      "outputs": []
    },
    {
      "cell_type": "code",
      "metadata": {
        "id": "E9Hks9yrtisz",
        "colab_type": "code",
        "colab": {
          "base_uri": "https://localhost:8080/",
          "height": 68
        },
        "outputId": "cb57f8ec-9c66-4749-acab-da33efd2c068"
      },
      "source": [
        "transaction[\"PROD_QUANT\"].unique()"
      ],
      "execution_count": 9,
      "outputs": [
        {
          "output_type": "execute_result",
          "data": {
            "text/plain": [
              "array(['175', '170', '150', '300', '330', '210', '270', '220', '125',\n",
              "       '110', '134', '380', '180', '165', '135', '250', '200', '160',\n",
              "       '190', ' 90', ' 70'], dtype=object)"
            ]
          },
          "metadata": {
            "tags": []
          },
          "execution_count": 9
        }
      ]
    },
    {
      "cell_type": "code",
      "metadata": {
        "id": "srqyQ3Z_u33b",
        "colab_type": "code",
        "colab": {}
      },
      "source": [
        "transaction[\"COMP_NAME\"] = transaction.PROD_NAME.str[:-4]"
      ],
      "execution_count": 10,
      "outputs": []
    },
    {
      "cell_type": "code",
      "metadata": {
        "id": "dyCtcUr_xJKD",
        "colab_type": "code",
        "colab": {
          "base_uri": "https://localhost:8080/",
          "height": 221
        },
        "outputId": "fcd61a8b-a659-497c-914a-be2cccdc4609"
      },
      "source": [
        "transaction[\"COMP_NAME\"]"
      ],
      "execution_count": 11,
      "outputs": [
        {
          "output_type": "execute_result",
          "data": {
            "text/plain": [
              "0           Natural Chip        Compny SeaSalt\n",
              "1                         CCs Nacho Cheese    \n",
              "2           Smiths Crinkle Cut  Chips Chicken \n",
              "3           Smiths Chip Thinly  S/Cream&Onion \n",
              "4         Kettle Tortilla ChpsHny&Jlpno Chili \n",
              "                          ...                 \n",
              "264831     Kettle Sweet Chilli And Sour Cream \n",
              "264832               Tostitos Splash Of  Lime \n",
              "264833                    Doritos Mexicana    \n",
              "264834     Doritos Corn Chip Mexican Jalapeno \n",
              "264835               Tostitos Splash Of  Lime \n",
              "Name: COMP_NAME, Length: 264836, dtype: object"
            ]
          },
          "metadata": {
            "tags": []
          },
          "execution_count": 11
        }
      ]
    },
    {
      "cell_type": "code",
      "metadata": {
        "id": "751pXh3ZxMdG",
        "colab_type": "code",
        "colab": {
          "base_uri": "https://localhost:8080/",
          "height": 34
        },
        "outputId": "85df74c8-845d-4f13-9918-c3d6ff170829"
      },
      "source": [
        "len(transaction[\"COMP_NAME\"].value_counts())"
      ],
      "execution_count": 12,
      "outputs": [
        {
          "output_type": "execute_result",
          "data": {
            "text/plain": [
              "114"
            ]
          },
          "metadata": {
            "tags": []
          },
          "execution_count": 12
        }
      ]
    },
    {
      "cell_type": "code",
      "metadata": {
        "id": "_sK08W7tC_TO",
        "colab_type": "code",
        "colab": {
          "base_uri": "https://localhost:8080/",
          "height": 221
        },
        "outputId": "b134da78-a1a9-4c9c-db33-203ad6705103"
      },
      "source": [
        "transaction['PROD_NBR'].value_counts()"
      ],
      "execution_count": 13,
      "outputs": [
        {
          "output_type": "execute_result",
          "data": {
            "text/plain": [
              "102    3304\n",
              "108    3296\n",
              "33     3269\n",
              "112    3268\n",
              "75     3265\n",
              "       ... \n",
              "11     1431\n",
              "76     1430\n",
              "98     1419\n",
              "29     1418\n",
              "72     1410\n",
              "Name: PROD_NBR, Length: 114, dtype: int64"
            ]
          },
          "metadata": {
            "tags": []
          },
          "execution_count": 13
        }
      ]
    },
    {
      "cell_type": "code",
      "metadata": {
        "id": "eFYOPNZcx0CX",
        "colab_type": "code",
        "colab": {}
      },
      "source": [
        "transaction[\"COMP_NAME\"] = transaction.PROD_NAME.str.split(' ')"
      ],
      "execution_count": 14,
      "outputs": []
    },
    {
      "cell_type": "code",
      "metadata": {
        "id": "I98gqeKn0NPp",
        "colab_type": "code",
        "colab": {}
      },
      "source": [
        "transaction.COMP_NAME = transaction[\"COMP_NAME\"].apply(lambda x:x[0])"
      ],
      "execution_count": 15,
      "outputs": []
    },
    {
      "cell_type": "code",
      "metadata": {
        "id": "44U40Uv10VAL",
        "colab_type": "code",
        "colab": {
          "base_uri": "https://localhost:8080/",
          "height": 102
        },
        "outputId": "aa359105-fee8-46c2-cd42-0d8477dff873"
      },
      "source": [
        "transaction[\"COMP_NAME\"].unique()"
      ],
      "execution_count": 16,
      "outputs": [
        {
          "output_type": "execute_result",
          "data": {
            "text/plain": [
              "array(['Natural', 'CCs', 'Smiths', 'Kettle', 'Old', 'Grain', 'Doritos',\n",
              "       'Twisties', 'WW', 'Thins', 'Burger', 'NCC', 'Cheezels', 'Infzns',\n",
              "       'Red', 'Pringles', 'Dorito', 'Infuzions', 'Smith', 'GrnWves',\n",
              "       'Tyrrells', 'Cobs', 'Woolworths', 'French', 'RRD', 'Tostitos',\n",
              "       'Cheetos', 'Snbts', 'Sunbites'], dtype=object)"
            ]
          },
          "metadata": {
            "tags": []
          },
          "execution_count": 16
        }
      ]
    },
    {
      "cell_type": "code",
      "metadata": {
        "id": "E9T3umTN0hJN",
        "colab_type": "code",
        "colab": {}
      },
      "source": [
        "transaction.PROD_QUANT = transaction.PROD_QUANT.astype(str).astype(int)"
      ],
      "execution_count": 17,
      "outputs": []
    },
    {
      "cell_type": "code",
      "metadata": {
        "id": "ZHrJ3XKXBUpF",
        "colab_type": "code",
        "colab": {
          "base_uri": "https://localhost:8080/",
          "height": 306
        },
        "outputId": "ffebdc1e-6c5a-4553-ddd7-b81eab34fb1e"
      },
      "source": [
        "transaction.info()"
      ],
      "execution_count": 18,
      "outputs": [
        {
          "output_type": "stream",
          "text": [
            "<class 'pandas.core.frame.DataFrame'>\n",
            "RangeIndex: 264836 entries, 0 to 264835\n",
            "Data columns (total 10 columns):\n",
            " #   Column          Non-Null Count   Dtype  \n",
            "---  ------          --------------   -----  \n",
            " 0   DATE            264836 non-null  int64  \n",
            " 1   STORE_NBR       264836 non-null  int64  \n",
            " 2   LYLTY_CARD_NBR  264836 non-null  int64  \n",
            " 3   TXN_ID          264836 non-null  int64  \n",
            " 4   PROD_NBR        264836 non-null  int64  \n",
            " 5   PROD_NAME       264836 non-null  object \n",
            " 6   PROD_QTY        264836 non-null  int64  \n",
            " 7   TOT_SALES       264836 non-null  float64\n",
            " 8   PROD_QUANT      264836 non-null  int64  \n",
            " 9   COMP_NAME       264836 non-null  object \n",
            "dtypes: float64(1), int64(7), object(2)\n",
            "memory usage: 20.2+ MB\n"
          ],
          "name": "stdout"
        }
      ]
    },
    {
      "cell_type": "code",
      "metadata": {
        "id": "RGOvmv61BaKI",
        "colab_type": "code",
        "colab": {}
      },
      "source": [
        "df_num = transaction[['STORE_NBR','PROD_NBR','PROD_QTY','PROD_QUANT']]\n",
        "df_cat = transaction['COMP_NAME']"
      ],
      "execution_count": 19,
      "outputs": []
    },
    {
      "cell_type": "code",
      "metadata": {
        "id": "A5PJmMroEKdJ",
        "colab_type": "code",
        "colab": {
          "base_uri": "https://localhost:8080/",
          "height": 1000
        },
        "outputId": "bcde4634-a7cd-446f-a9d9-3472a6c7e990"
      },
      "source": [
        "for i in df_num.columns:\n",
        "    plt.hist(df_num[i],25,)\n",
        "    plt.title(i)\n",
        "    plt.show()"
      ],
      "execution_count": 20,
      "outputs": [
        {
          "output_type": "display_data",
          "data": {
            "image/png": "[encoded data removed]",
            "text/plain": [
              "<Figure size 432x288 with 1 Axes>"
            ]
          },
          "metadata": {
            "tags": [],
            "needs_background": "light"
          }
        },
        {
          "output_type": "display_data",
          "data": {
            "image/png": "[encoded data removed]",
            "text/plain": [
              "<Figure size 432x288 with 1 Axes>"
            ]
          },
          "metadata": {
            "tags": [],
            "needs_background": "light"
          }
        },
        {
          "output_type": "display_data",
          "data": {
            "image/png": "[encoded data removed]",
            "text/plain": [
              "<Figure size 432x288 with 1 Axes>"
            ]
          },
          "metadata": {
            "tags": [],
            "needs_background": "light"
          }
        },
        {
          "output_type": "display_data",
          "data": {
            "image/png": "[encoded data removed]",
            "text/plain": [
              "<Figure size 432x288 with 1 Axes>"
            ]
          },
          "metadata": {
            "tags": [],
            "needs_background": "light"
          }
        }
      ]
    },
    {
      "cell_type": "code",
      "metadata": {
        "id": "e2nUaB0JRIFx",
        "colab_type": "code",
        "colab": {
          "base_uri": "https://localhost:8080/",
          "height": 444
        },
        "outputId": "0bef2879-2c46-47df-bdb9-058e9b17a8df"
      },
      "source": [
        "labels=transaction['PROD_QTY'].value_counts().index\n",
        "values=transaction['PROD_QTY'].value_counts().values\n",
        "\n",
        "plt.figure(figsize = (6, 7))\n",
        "plt.title('PROD_QTY')\n",
        "ax = sns.barplot(x=labels, y=values, errwidth=0.5)\n",
        "for i, p in enumerate(ax.patches):\n",
        "    height = p.get_height()\n",
        "    ax.text(p.get_x()+p.get_width()/2., height + 1, values[i],ha=\"center\")\n",
        "   "
      ],
      "execution_count": 21,
      "outputs": [
        {
          "output_type": "display_data",
          "data": {
            "image/png": "[encoded data removed]",
            "text/plain": [
              "<Figure size 432x504 with 1 Axes>"
            ]
          },
          "metadata": {
            "tags": [],
            "needs_background": "light"
          }
        }
      ]
    },
    {
      "cell_type": "code",
      "metadata": {
        "id": "tJMd__WGRapv",
        "colab_type": "code",
        "colab": {
          "base_uri": "https://localhost:8080/",
          "height": 622
        },
        "outputId": "61e7ce5e-8c7d-4144-f712-e49bdd3b7dca"
      },
      "source": [
        "plt.figure(figsize=(10,10))\n",
        "sns.barplot(transaction['COMP_NAME'].value_counts(),transaction['COMP_NAME'].value_counts().index).set_title('COMP_NAME')\n",
        "plt.show()"
      ],
      "execution_count": 22,
      "outputs": [
        {
          "output_type": "display_data",
          "data": {
            "image/png": "[encoded data removed]",
            "text/plain": [
              "<Figure size 720x720 with 1 Axes>"
            ]
          },
          "metadata": {
            "tags": [],
            "needs_background": "light"
          }
        }
      ]
    },
    {
      "cell_type": "code",
      "metadata": {
        "id": "t-KrFfKTXlp-",
        "colab_type": "code",
        "colab": {
          "base_uri": "https://localhost:8080/",
          "height": 136
        },
        "outputId": "8b71479a-935d-48bf-dbe7-9028ec88f047"
      },
      "source": [
        "transaction['PROD_QTY'].value_counts()"
      ],
      "execution_count": 23,
      "outputs": [
        {
          "output_type": "execute_result",
          "data": {
            "text/plain": [
              "2      236039\n",
              "1       27518\n",
              "5         450\n",
              "3         430\n",
              "4         397\n",
              "200         2\n",
              "Name: PROD_QTY, dtype: int64"
            ]
          },
          "metadata": {
            "tags": []
          },
          "execution_count": 23
        }
      ]
    },
    {
      "cell_type": "code",
      "metadata": {
        "id": "EODAJZHNaww3",
        "colab_type": "code",
        "colab": {
          "base_uri": "https://localhost:8080/",
          "height": 204
        },
        "outputId": "c3141841-2bbf-41f0-da3f-e4ffa039a0c0"
      },
      "source": [
        "purchase.head()"
      ],
      "execution_count": 24,
      "outputs": [
        {
          "output_type": "execute_result",
          "data": {
            "text/html": [
              "<div>\n",
              "<style scoped>\n",
              "    .dataframe tbody tr th:only-of-type {\n",
              "        vertical-align: middle;\n",
              "    }\n",
              "\n",
              "    .dataframe tbody tr th {\n",
              "        vertical-align: top;\n",
              "    }\n",
              "\n",
              "    .dataframe thead th {\n",
              "        text-align: right;\n",
              "    }\n",
              "</style>\n",
              "<table border=\"1\" class=\"dataframe\">\n",
              "  <thead>\n",
              "    <tr style=\"text-align: right;\">\n",
              "      <th></th>\n",
              "      <th>LYLTY_CARD_NBR</th>\n",
              "      <th>LIFESTAGE</th>\n",
              "      <th>PREMIUM_CUSTOMER</th>\n",
              "    </tr>\n",
              "  </thead>\n",
              "  <tbody>\n",
              "    <tr>\n",
              "      <th>0</th>\n",
              "      <td>1000</td>\n",
              "      <td>YOUNG SINGLES/COUPLES</td>\n",
              "      <td>Premium</td>\n",
              "    </tr>\n",
              "    <tr>\n",
              "      <th>1</th>\n",
              "      <td>1002</td>\n",
              "      <td>YOUNG SINGLES/COUPLES</td>\n",
              "      <td>Mainstream</td>\n",
              "    </tr>\n",
              "    <tr>\n",
              "      <th>2</th>\n",
              "      <td>1003</td>\n",
              "      <td>YOUNG FAMILIES</td>\n",
              "      <td>Budget</td>\n",
              "    </tr>\n",
              "    <tr>\n",
              "      <th>3</th>\n",
              "      <td>1004</td>\n",
              "      <td>OLDER SINGLES/COUPLES</td>\n",
              "      <td>Mainstream</td>\n",
              "    </tr>\n",
              "    <tr>\n",
              "      <th>4</th>\n",
              "      <td>1005</td>\n",
              "      <td>MIDAGE SINGLES/COUPLES</td>\n",
              "      <td>Mainstream</td>\n",
              "    </tr>\n",
              "  </tbody>\n",
              "</table>\n",
              "</div>"
            ],
            "text/plain": [
              "   LYLTY_CARD_NBR               LIFESTAGE PREMIUM_CUSTOMER\n",
              "0            1000   YOUNG SINGLES/COUPLES          Premium\n",
              "1            1002   YOUNG SINGLES/COUPLES       Mainstream\n",
              "2            1003          YOUNG FAMILIES           Budget\n",
              "3            1004   OLDER SINGLES/COUPLES       Mainstream\n",
              "4            1005  MIDAGE SINGLES/COUPLES       Mainstream"
            ]
          },
          "metadata": {
            "tags": []
          },
          "execution_count": 24
        }
      ]
    },
    {
      "cell_type": "code",
      "metadata": {
        "id": "LOvinuQ6ceIu",
        "colab_type": "code",
        "colab": {}
      },
      "source": [
        "purchase_cat=purchase[['LIFESTAGE','PREMIUM_CUSTOMER']]"
      ],
      "execution_count": 25,
      "outputs": []
    },
    {
      "cell_type": "code",
      "metadata": {
        "id": "Fc5-zVM2cM69",
        "colab_type": "code",
        "colab": {
          "base_uri": "https://localhost:8080/",
          "height": 1000
        },
        "outputId": "c7b867de-f434-4341-f04e-367e14c784b7"
      },
      "source": [
        "plt.figure(figsize=(10,10))\n",
        "# chart = sns.countplot(\n",
        "#     data=data[data['Year'] == 1980],\n",
        "#     x='Sport',\n",
        "#     palette='Set1'\n",
        "# )\n",
        "for i in purchase_cat.columns:\n",
        "    chart = sns.barplot(purchase_cat[i].value_counts().index,purchase_cat[i].value_counts())\n",
        "    chart.set_title(i)\n",
        "    chart.set_ylabel('Count')\n",
        "    chart.set_xticklabels(chart.get_xticklabels(), rotation=45)\n",
        "    plt.show()\n",
        "    "
      ],
      "execution_count": 26,
      "outputs": [
        {
          "output_type": "display_data",
          "data": {
            "image/png": "[encoded data removed]",
            "text/plain": [
              "<Figure size 720x720 with 1 Axes>"
            ]
          },
          "metadata": {
            "tags": [],
            "needs_background": "light"
          }
        },
        {
          "output_type": "display_data",
          "data": {
            "image/png": "[encoded data removed]",
            "text/plain": [
              "<Figure size 432x288 with 1 Axes>"
            ]
          },
          "metadata": {
            "tags": [],
            "needs_background": "light"
          }
        }
      ]
    },
    {
      "cell_type": "code",
      "metadata": {
        "id": "ys8Q8mb6cw2R",
        "colab_type": "code",
        "colab": {}
      },
      "source": [
        "all_data = pd.merge(transaction,purchase,how='outer',left_on='LYLTY_CARD_NBR',right_on='LYLTY_CARD_NBR')"
      ],
      "execution_count": 27,
      "outputs": []
    },
    {
      "cell_type": "code",
      "metadata": {
        "id": "VWCL8mIS2PdT",
        "colab_type": "code",
        "colab": {
          "base_uri": "https://localhost:8080/",
          "height": 776
        },
        "outputId": "ccef1a0c-b2d4-4b1e-a65c-c5600798cc68"
      },
      "source": [
        "all_data"
      ],
      "execution_count": 28,
      "outputs": [
        {
          "output_type": "execute_result",
          "data": {
            "text/html": [
              "<div>\n",
              "<style scoped>\n",
              "    .dataframe tbody tr th:only-of-type {\n",
              "        vertical-align: middle;\n",
              "    }\n",
              "\n",
              "    .dataframe tbody tr th {\n",
              "        vertical-align: top;\n",
              "    }\n",
              "\n",
              "    .dataframe thead th {\n",
              "        text-align: right;\n",
              "    }\n",
              "</style>\n",
              "<table border=\"1\" class=\"dataframe\">\n",
              "  <thead>\n",
              "    <tr style=\"text-align: right;\">\n",
              "      <th></th>\n",
              "      <th>DATE</th>\n",
              "      <th>STORE_NBR</th>\n",
              "      <th>LYLTY_CARD_NBR</th>\n",
              "      <th>TXN_ID</th>\n",
              "      <th>PROD_NBR</th>\n",
              "      <th>PROD_NAME</th>\n",
              "      <th>PROD_QTY</th>\n",
              "      <th>TOT_SALES</th>\n",
              "      <th>PROD_QUANT</th>\n",
              "      <th>COMP_NAME</th>\n",
              "      <th>LIFESTAGE</th>\n",
              "      <th>PREMIUM_CUSTOMER</th>\n",
              "    </tr>\n",
              "  </thead>\n",
              "  <tbody>\n",
              "    <tr>\n",
              "      <th>0</th>\n",
              "      <td>43390</td>\n",
              "      <td>1</td>\n",
              "      <td>1000</td>\n",
              "      <td>1</td>\n",
              "      <td>5</td>\n",
              "      <td>Natural Chip        Compny SeaSalt175g</td>\n",
              "      <td>2</td>\n",
              "      <td>6.0</td>\n",
              "      <td>175</td>\n",
              "      <td>Natural</td>\n",
              "      <td>YOUNG SINGLES/COUPLES</td>\n",
              "      <td>Premium</td>\n",
              "    </tr>\n",
              "    <tr>\n",
              "      <th>1</th>\n",
              "      <td>43599</td>\n",
              "      <td>1</td>\n",
              "      <td>1307</td>\n",
              "      <td>348</td>\n",
              "      <td>66</td>\n",
              "      <td>CCs Nacho Cheese    175g</td>\n",
              "      <td>3</td>\n",
              "      <td>6.3</td>\n",
              "      <td>175</td>\n",
              "      <td>CCs</td>\n",
              "      <td>MIDAGE SINGLES/COUPLES</td>\n",
              "      <td>Budget</td>\n",
              "    </tr>\n",
              "    <tr>\n",
              "      <th>2</th>\n",
              "      <td>43414</td>\n",
              "      <td>1</td>\n",
              "      <td>1307</td>\n",
              "      <td>346</td>\n",
              "      <td>96</td>\n",
              "      <td>WW Original Stacked Chips 160g</td>\n",
              "      <td>2</td>\n",
              "      <td>3.8</td>\n",
              "      <td>160</td>\n",
              "      <td>WW</td>\n",
              "      <td>MIDAGE SINGLES/COUPLES</td>\n",
              "      <td>Budget</td>\n",
              "    </tr>\n",
              "    <tr>\n",
              "      <th>3</th>\n",
              "      <td>43533</td>\n",
              "      <td>1</td>\n",
              "      <td>1307</td>\n",
              "      <td>347</td>\n",
              "      <td>54</td>\n",
              "      <td>CCs Original 175g</td>\n",
              "      <td>1</td>\n",
              "      <td>2.1</td>\n",
              "      <td>175</td>\n",
              "      <td>CCs</td>\n",
              "      <td>MIDAGE SINGLES/COUPLES</td>\n",
              "      <td>Budget</td>\n",
              "    </tr>\n",
              "    <tr>\n",
              "      <th>4</th>\n",
              "      <td>43605</td>\n",
              "      <td>1</td>\n",
              "      <td>1343</td>\n",
              "      <td>383</td>\n",
              "      <td>61</td>\n",
              "      <td>Smiths Crinkle Cut  Chips Chicken 170g</td>\n",
              "      <td>2</td>\n",
              "      <td>2.9</td>\n",
              "      <td>170</td>\n",
              "      <td>Smiths</td>\n",
              "      <td>MIDAGE SINGLES/COUPLES</td>\n",
              "      <td>Budget</td>\n",
              "    </tr>\n",
              "    <tr>\n",
              "      <th>...</th>\n",
              "      <td>...</td>\n",
              "      <td>...</td>\n",
              "      <td>...</td>\n",
              "      <td>...</td>\n",
              "      <td>...</td>\n",
              "      <td>...</td>\n",
              "      <td>...</td>\n",
              "      <td>...</td>\n",
              "      <td>...</td>\n",
              "      <td>...</td>\n",
              "      <td>...</td>\n",
              "      <td>...</td>\n",
              "    </tr>\n",
              "    <tr>\n",
              "      <th>264831</th>\n",
              "      <td>43533</td>\n",
              "      <td>272</td>\n",
              "      <td>272319</td>\n",
              "      <td>270088</td>\n",
              "      <td>89</td>\n",
              "      <td>Kettle Sweet Chilli And Sour Cream 175g</td>\n",
              "      <td>2</td>\n",
              "      <td>10.8</td>\n",
              "      <td>175</td>\n",
              "      <td>Kettle</td>\n",
              "      <td>YOUNG SINGLES/COUPLES</td>\n",
              "      <td>Premium</td>\n",
              "    </tr>\n",
              "    <tr>\n",
              "      <th>264832</th>\n",
              "      <td>43325</td>\n",
              "      <td>272</td>\n",
              "      <td>272358</td>\n",
              "      <td>270154</td>\n",
              "      <td>74</td>\n",
              "      <td>Tostitos Splash Of  Lime 175g</td>\n",
              "      <td>1</td>\n",
              "      <td>4.4</td>\n",
              "      <td>175</td>\n",
              "      <td>Tostitos</td>\n",
              "      <td>YOUNG SINGLES/COUPLES</td>\n",
              "      <td>Premium</td>\n",
              "    </tr>\n",
              "    <tr>\n",
              "      <th>264833</th>\n",
              "      <td>43410</td>\n",
              "      <td>272</td>\n",
              "      <td>272379</td>\n",
              "      <td>270187</td>\n",
              "      <td>51</td>\n",
              "      <td>Doritos Mexicana    170g</td>\n",
              "      <td>2</td>\n",
              "      <td>8.8</td>\n",
              "      <td>170</td>\n",
              "      <td>Doritos</td>\n",
              "      <td>YOUNG SINGLES/COUPLES</td>\n",
              "      <td>Premium</td>\n",
              "    </tr>\n",
              "    <tr>\n",
              "      <th>264834</th>\n",
              "      <td>43461</td>\n",
              "      <td>272</td>\n",
              "      <td>272379</td>\n",
              "      <td>270188</td>\n",
              "      <td>42</td>\n",
              "      <td>Doritos Corn Chip Mexican Jalapeno 150g</td>\n",
              "      <td>2</td>\n",
              "      <td>7.8</td>\n",
              "      <td>150</td>\n",
              "      <td>Doritos</td>\n",
              "      <td>YOUNG SINGLES/COUPLES</td>\n",
              "      <td>Premium</td>\n",
              "    </tr>\n",
              "    <tr>\n",
              "      <th>264835</th>\n",
              "      <td>43365</td>\n",
              "      <td>272</td>\n",
              "      <td>272380</td>\n",
              "      <td>270189</td>\n",
              "      <td>74</td>\n",
              "      <td>Tostitos Splash Of  Lime 175g</td>\n",
              "      <td>2</td>\n",
              "      <td>8.8</td>\n",
              "      <td>175</td>\n",
              "      <td>Tostitos</td>\n",
              "      <td>YOUNG SINGLES/COUPLES</td>\n",
              "      <td>Premium</td>\n",
              "    </tr>\n",
              "  </tbody>\n",
              "</table>\n",
              "<p>264836 rows × 12 columns</p>\n",
              "</div>"
            ],
            "text/plain": [
              "         DATE  STORE_NBR  ...               LIFESTAGE  PREMIUM_CUSTOMER\n",
              "0       43390          1  ...   YOUNG SINGLES/COUPLES           Premium\n",
              "1       43599          1  ...  MIDAGE SINGLES/COUPLES            Budget\n",
              "2       43414          1  ...  MIDAGE SINGLES/COUPLES            Budget\n",
              "3       43533          1  ...  MIDAGE SINGLES/COUPLES            Budget\n",
              "4       43605          1  ...  MIDAGE SINGLES/COUPLES            Budget\n",
              "...       ...        ...  ...                     ...               ...\n",
              "264831  43533        272  ...   YOUNG SINGLES/COUPLES           Premium\n",
              "264832  43325        272  ...   YOUNG SINGLES/COUPLES           Premium\n",
              "264833  43410        272  ...   YOUNG SINGLES/COUPLES           Premium\n",
              "264834  43461        272  ...   YOUNG SINGLES/COUPLES           Premium\n",
              "264835  43365        272  ...   YOUNG SINGLES/COUPLES           Premium\n",
              "\n",
              "[264836 rows x 12 columns]"
            ]
          },
          "metadata": {
            "tags": []
          },
          "execution_count": 28
        }
      ]
    },
    {
      "cell_type": "code",
      "metadata": {
        "id": "U3px2ezb2Q6k",
        "colab_type": "code",
        "colab": {}
      },
      "source": [
        "null_check = all_data.isna()"
      ],
      "execution_count": 29,
      "outputs": []
    },
    {
      "cell_type": "code",
      "metadata": {
        "id": "kUnzpb6t2vid",
        "colab_type": "code",
        "colab": {
          "base_uri": "https://localhost:8080/",
          "height": 425
        },
        "outputId": "367d8619-4022-4a02-b66c-2c355fa6483b"
      },
      "source": [
        "for i in null_check.columns:\n",
        "  a = null_check[i].value_counts()\n",
        "  print(a)"
      ],
      "execution_count": 30,
      "outputs": [
        {
          "output_type": "stream",
          "text": [
            "False    264836\n",
            "Name: DATE, dtype: int64\n",
            "False    264836\n",
            "Name: STORE_NBR, dtype: int64\n",
            "False    264836\n",
            "Name: LYLTY_CARD_NBR, dtype: int64\n",
            "False    264836\n",
            "Name: TXN_ID, dtype: int64\n",
            "False    264836\n",
            "Name: PROD_NBR, dtype: int64\n",
            "False    264836\n",
            "Name: PROD_NAME, dtype: int64\n",
            "False    264836\n",
            "Name: PROD_QTY, dtype: int64\n",
            "False    264836\n",
            "Name: TOT_SALES, dtype: int64\n",
            "False    264836\n",
            "Name: PROD_QUANT, dtype: int64\n",
            "False    264836\n",
            "Name: COMP_NAME, dtype: int64\n",
            "False    264836\n",
            "Name: LIFESTAGE, dtype: int64\n",
            "False    264836\n",
            "Name: PREMIUM_CUSTOMER, dtype: int64\n"
          ],
          "name": "stdout"
        }
      ]
    },
    {
      "cell_type": "code",
      "metadata": {
        "id": "XvYY_oIc3xK1",
        "colab_type": "code",
        "colab": {}
      },
      "source": [
        ""
      ],
      "execution_count": 30,
      "outputs": []
    }
  ]
}